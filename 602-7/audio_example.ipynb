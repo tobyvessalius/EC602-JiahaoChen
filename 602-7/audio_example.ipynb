{
 "cells": [
  {
   "cell_type": "markdown",
   "metadata": {},
   "source": [
    "# Audio in Jupyter  IPython Notebook"
   ]
  },
  {
   "cell_type": "code",
   "execution_count": null,
   "metadata": {
    "collapsed": true
   },
   "outputs": [],
   "source": [
    "import scipy.io.wavfile as wavfile\n",
    "import matplotlib.pyplot as pyplot\n",
    "\n",
    "def read_wave(fname,debug=False):\n",
    "    frame_rate,music = wavfile.read(fname)\n",
    "    if debug:\n",
    "        print(frame_rate,type(music),music.shape,music.ndim)\n",
    "    if music.ndim>1:\n",
    "        nframes,nchannels = music.shape\n",
    "    else:\n",
    "        nchannels = 1\n",
    "        nframes = music.shape[0]    \n",
    "    return music,frame_rate,nframes,nchannels"
   ]
  },
  {
   "cell_type": "markdown",
   "metadata": {},
   "source": [
    "# Reading WAV files, plotting signals in time domain"
   ]
  },
  {
   "cell_type": "code",
   "execution_count": null,
   "metadata": {
    "collapsed": false
   },
   "outputs": [],
   "source": [
    "fname = 'a2002011001-e02.wav'\n",
    "fname = \"bach10sec.wav\"\n",
    "#fname = \"scary.wav\"\n",
    "\n",
    "music,frame_rate,nframes,nchannels = read_wave(fname,debug=True)\n",
    "\n",
    "\n",
    "if nchannels > 1:\n",
    "    music = music.sum(axis=1)\n",
    "    print(music.shape)\n",
    "    \n",
    "pyplot.plot(music)\n",
    "pyplot.show()"
   ]
  },
  {
   "cell_type": "markdown",
   "metadata": {},
   "source": [
    "# Making Audio objects"
   ]
  },
  {
   "cell_type": "code",
   "execution_count": null,
   "metadata": {
    "collapsed": false
   },
   "outputs": [],
   "source": [
    "from IPython.display import Audio\n",
    "a = Audio(music,rate=frame_rate,autoplay=True)"
   ]
  },
  {
   "cell_type": "code",
   "execution_count": null,
   "metadata": {
    "collapsed": false
   },
   "outputs": [],
   "source": [
    "a"
   ]
  },
  {
   "cell_type": "code",
   "execution_count": null,
   "metadata": {
    "collapsed": true
   },
   "outputs": [],
   "source": [
    "b=Audio('a2002011001-e02.wav')"
   ]
  },
  {
   "cell_type": "code",
   "execution_count": null,
   "metadata": {
    "collapsed": false
   },
   "outputs": [],
   "source": [
    "b"
   ]
  },
  {
   "cell_type": "code",
   "execution_count": null,
   "metadata": {
    "collapsed": true
   },
   "outputs": [],
   "source": [
    "%pylab"
   ]
  },
  {
   "cell_type": "code",
   "execution_count": null,
   "metadata": {
    "collapsed": false
   },
   "outputs": [],
   "source": [
    "fs=8000\n",
    "f = 200\n",
    "npoints =\n",
    "t=linspace(0,.05,npoints)\n",
    "tone = cos(2*pi*f*t)+cos(2*pi*300*t)\n",
    "plot(t,tone)\n",
    "show()"
   ]
  },
  {
   "cell_type": "code",
   "execution_count": null,
   "metadata": {
    "collapsed": false
   },
   "outputs": [],
   "source": [
    "a = Audio(tone,rate=fs)"
   ]
  },
  {
   "cell_type": "code",
   "execution_count": null,
   "metadata": {
    "collapsed": false
   },
   "outputs": [],
   "source": [
    "a"
   ]
  },
  {
   "cell_type": "markdown",
   "metadata": {},
   "source": [
    "# Writing  (Creating) WAV files from data"
   ]
  },
  {
   "cell_type": "code",
   "execution_count": null,
   "metadata": {
    "collapsed": false
   },
   "outputs": [],
   "source": [
    "help(wavfile.write)"
   ]
  }
 ],
 "metadata": {
  "anaconda-cloud": {},
  "kernelspec": {
   "display_name": "Python [Root]",
   "language": "python",
   "name": "Python [Root]"
  },
  "language_info": {
   "codemirror_mode": {
    "name": "ipython",
    "version": 3
   },
   "file_extension": ".py",
   "mimetype": "text/x-python",
   "name": "python",
   "nbconvert_exporter": "python",
   "pygments_lexer": "ipython3",
   "version": "3.5.2"
  }
 },
 "nbformat": 4,
 "nbformat_minor": 0
}
